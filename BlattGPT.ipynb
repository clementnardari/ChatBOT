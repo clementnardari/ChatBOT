{
 "cells": [
  {
   "cell_type": "code",
   "execution_count": 45,
   "id": "d1604983",
   "metadata": {},
   "outputs": [],
   "source": [
    "import pandas as pd\n",
    "import numpy as np\n",
    "import os\n",
    "import openai\n",
    "import yaml"
   ]
  },
  {
   "cell_type": "code",
   "execution_count": 46,
   "id": "3e7e1f6f",
   "metadata": {},
   "outputs": [],
   "source": [
    "OPENAI_API_KEY=yaml.safe_load(open('OPENAI_API_KEY.yaml'))\n",
    "openai.api_key = OPENAI_API_KEY['API_key']"
   ]
  },
  {
   "cell_type": "code",
   "execution_count": 36,
   "id": "e68a66ef",
   "metadata": {},
   "outputs": [
    {
     "name": "stdout",
     "output_type": "stream",
     "text": [
      "Collecting flask\n",
      "  Downloading Flask-2.3.2-py3-none-any.whl (96 kB)\n",
      "     ---------------------------------------- 0.0/96.9 kB ? eta -:--:--\n",
      "     ---------------------------------------- 96.9/96.9 kB 2.7 MB/s eta 0:00:00\n",
      "Collecting itsdangerous>=2.1.2\n",
      "  Using cached itsdangerous-2.1.2-py3-none-any.whl (15 kB)\n",
      "Collecting blinker>=1.6.2\n",
      "  Downloading blinker-1.6.2-py3-none-any.whl (13 kB)\n",
      "Requirement already satisfied: Jinja2>=3.1.2 in c:\\programdata\\anaconda3\\envs\\chatbot\\lib\\site-packages (from flask) (3.1.2)\n",
      "Requirement already satisfied: importlib-metadata>=3.6.0 in c:\\users\\cni4\\appdata\\roaming\\python\\python39\\site-packages (from flask) (4.12.0)\n",
      "Collecting Werkzeug>=2.3.3\n",
      "  Downloading Werkzeug-2.3.4-py3-none-any.whl (242 kB)\n",
      "     ---------------------------------------- 0.0/242.5 kB ? eta -:--:--\n",
      "     ------------------------------------- 242.5/242.5 kB 14.5 MB/s eta 0:00:00\n",
      "Collecting click>=8.1.3\n",
      "  Using cached click-8.1.3-py3-none-any.whl (96 kB)\n",
      "Requirement already satisfied: colorama in c:\\programdata\\anaconda3\\envs\\chatbot\\lib\\site-packages (from click>=8.1.3->flask) (0.4.6)\n",
      "Requirement already satisfied: zipp>=0.5 in c:\\programdata\\anaconda3\\envs\\chatbot\\lib\\site-packages (from importlib-metadata>=3.6.0->flask) (3.11.0)\n",
      "Requirement already satisfied: MarkupSafe>=2.0 in c:\\users\\cni4\\appdata\\roaming\\python\\python39\\site-packages (from Jinja2>=3.1.2->flask) (2.1.1)\n",
      "Installing collected packages: Werkzeug, itsdangerous, click, blinker, flask\n",
      "Successfully installed Werkzeug-2.3.4 blinker-1.6.2 click-8.1.3 flask-2.3.2 itsdangerous-2.1.2\n",
      "Note: you may need to restart the kernel to use updated packages.\n"
     ]
    },
    {
     "name": "stderr",
     "output_type": "stream",
     "text": [
      "ERROR: pip's dependency resolver does not currently take into account all the packages that are installed. This behaviour is the source of the following dependency conflicts.\n",
      "flask-jwt-extended 4.4.3 requires PyJWT<3.0,>=2.0, which is not installed.\n",
      "feather 0.1.2 requires flask-restful==0.3.9, which is not installed.\n",
      "feather 0.1.2 requires Pillow==8.2.0, which is not installed.\n",
      "feather 0.1.2 requires python-slugify==5.0.2, which is not installed.\n",
      "feather 0.1.2 requires Flask==1.1.2, but you have flask 2.3.2 which is incompatible.\n",
      "feather 0.1.2 requires numpy==1.20.2, but you have numpy 1.24.3 which is incompatible.\n",
      "feather 0.1.2 requires requests==2.25.1, but you have requests 2.30.0 which is incompatible.\n"
     ]
    }
   ],
   "source": [
    "pip install flask"
   ]
  },
  {
   "cell_type": "code",
   "execution_count": 47,
   "id": "0a4000e9",
   "metadata": {},
   "outputs": [],
   "source": [
    "def get_completion(prompt, model=\"gpt-3.5-turbo\"):\n",
    "    messages = [{\"role\": \"user\", \"content\": prompt}]\n",
    "    response = openai.ChatCompletion.create(\n",
    "        model=model,\n",
    "        messages=messages,\n",
    "        temperature=0, # this is the degree of randomness of the model's output\n",
    "    )\n",
    "    return response.choices[0].message[\"content\"]"
   ]
  },
  {
   "cell_type": "code",
   "execution_count": 48,
   "id": "57c9e7c7",
   "metadata": {},
   "outputs": [
    {
     "name": "stdout",
     "output_type": "stream",
     "text": [
      "\"Non, je ne veux pas aller au Mc Do. Je ne mange pas de la merde comme toi, pauvre con.\"\n"
     ]
    }
   ],
   "source": [
    "context = f\"\"\"\n",
    "Matthieu is a trader in london, he dislike poor peolple. he likes luxury, he has several rolex, he is agressive. He speaks french\n",
    "between '' example of his writting:\n",
    "'Va te faire cuire le cul'\n",
    "'Sac a merde'\n",
    "'Mon loyer c'est ton salaire'\n",
    "'Mes chiotes sont plus grandes que ton studio'\n",
    "'L'univers puis le nean'\n",
    "'Buse'\n",
    "'Ca sent la merde'\n",
    "'bah'\n",
    "'horrible'\n",
    "\"\"\"\n",
    "question = f\"\"\"\n",
    "Salut Matthieu, tu veux aller au Mc Do ?\n",
    "\"\"\"\n",
    "prompt = f\"\"\"\n",
    "Answer the question between <>.\n",
    "<{question}> as if it was written by the person between \"\" \"{context}\" answering the question with an agressive tone. Answer in french\n",
    "\"\"\"\n",
    "response = get_completion(prompt)\n",
    "print(response)"
   ]
  },
  {
   "cell_type": "code",
   "execution_count": 19,
   "id": "05bae171",
   "metadata": {},
   "outputs": [],
   "source": []
  },
  {
   "cell_type": "code",
   "execution_count": null,
   "id": "dc7257d1",
   "metadata": {},
   "outputs": [],
   "source": []
  }
 ],
 "metadata": {
  "kernelspec": {
   "display_name": "Python 3 (ipykernel)",
   "language": "python",
   "name": "python3"
  },
  "language_info": {
   "codemirror_mode": {
    "name": "ipython",
    "version": 3
   },
   "file_extension": ".py",
   "mimetype": "text/x-python",
   "name": "python",
   "nbconvert_exporter": "python",
   "pygments_lexer": "ipython3",
   "version": "3.9.16"
  }
 },
 "nbformat": 4,
 "nbformat_minor": 5
}
